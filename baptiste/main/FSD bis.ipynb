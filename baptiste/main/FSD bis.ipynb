{
 "cells": [
  {
   "cell_type": "code",
   "execution_count": 1,
   "id": "c71c0275",
   "metadata": {},
   "outputs": [
    {
     "name": "stderr",
     "output_type": "stream",
     "text": [
      "C:\\Users\\Turbots\\Desktop\\Programmes python\\Particle-Size-Distribution-main\\gabriel_lib.py:87: MatplotlibDeprecationWarning: Support for setting the 'text.latex.preamble' or 'pgf.preamble' rcParam to a list of strings is deprecated since 3.3 and will be removed two minor releases later; set it to a single string instead.\n",
      "  mpl.rcParams['text.latex.preamble'] = [\n"
     ]
    }
   ],
   "source": [
    "%run gabriel_lib.py"
   ]
  },
  {
   "cell_type": "code",
   "execution_count": null,
   "id": "b3dde9ed",
   "metadata": {},
   "outputs": [],
   "source": [
    "display=True\n",
    "radius_analysis=True\n",
    "histogram=True\n",
    "save= False#Pour la sauvegarde des données\n",
    "plot=True\n",
    "edges_detection='Scharr' # ou canny\n",
    "echelles={'60microns':1/0.646} #key is the particle diameter, associated with the number of pxl/micron"
   ]
  },
  {
   "cell_type": "code",
   "execution_count": null,
   "id": "a85c2fe6",
   "metadata": {},
   "outputs": [],
   "source": [
    "path=r'./Image_folder/'\n",
    "# for one image\n",
    "images = ImageSequence(path + 'Image6.bmp') # name of the image sequence\n",
    "# for all images\n",
    "#images = ImageSequence(path+ 'Image*.tif') # name of the image sequence"
   ]
  },
  {
   "cell_type": "code",
   "execution_count": null,
   "id": "468cebb9",
   "metadata": {},
   "outputs": [],
   "source": [
    "print('Analyzing frame '+str(i))\n",
    "# Loading of the image to analyze\n",
    "image_gray = images[i]  #if pictures are already in gray-level  \n",
    "I_min,I_max=np.min(image_gray),np.max(image_gray)\n",
    "image_gray=(image_gray-I_min)/(I_max-I_min) #Contrast enhancment\n",
    "# image_gray=image_gray[0:750,:700]   #If you want to crop pictures\n",
    "if display:\n",
    "    fig, ([[ax0,ax1],[ax2,ax3]]) = plt.subplots(ncols=2, nrows=2, figsize=set_size(width = 'thesis', fraction =1, subplots=(2,2)))\n",
    "    ax0.imshow(image_gray, cmap=plt.cm.gray)\n",
    "    ax0.set_title('Frame i={}/{}'.format(str(i),str(len(images)-1)))    "
   ]
  },
  {
   "cell_type": "code",
   "execution_count": null,
   "id": "e279f4bb",
   "metadata": {},
   "outputs": [],
   "source": []
  }
 ],
 "metadata": {
  "kernelspec": {
   "display_name": "Python 3 (ipykernel)",
   "language": "python",
   "name": "python3"
  },
  "language_info": {
   "codemirror_mode": {
    "name": "ipython",
    "version": 3
   },
   "file_extension": ".py",
   "mimetype": "text/x-python",
   "name": "python",
   "nbconvert_exporter": "python",
   "pygments_lexer": "ipython3",
   "version": "3.9.7"
  }
 },
 "nbformat": 4,
 "nbformat_minor": 5
}
